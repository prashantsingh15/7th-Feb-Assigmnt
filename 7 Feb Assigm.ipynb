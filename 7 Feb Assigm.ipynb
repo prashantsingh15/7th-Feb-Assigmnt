{
 "cells": [
  {
   "cell_type": "markdown",
   "id": "28a9bf0e",
   "metadata": {},
   "source": [
    "Q1. You are writing code for a company. The requirement of the company is that you create a python\n",
    "function that will check whether the password entered by the user is correct or not. The function should\n",
    "take the password as input and return the string “Valid Password” if the entered password follows the\n",
    "below-given password guidelines else it should return “Invalid Password”.\n",
    "Note: 1. The Password should contain at least two uppercase letters and at least two lowercase letters.\n",
    "2. The Password should contain at least a number and three special characters.\n",
    "3. The length of the password should be 10 characters long."
   ]
  },
  {
   "cell_type": "code",
   "execution_count": 1,
   "id": "8e4fb66d",
   "metadata": {},
   "outputs": [
    {
     "name": "stdout",
     "output_type": "stream",
     "text": [
      " prashant\n",
      "Invalid Password\n"
     ]
    }
   ],
   "source": [
    "password = str(input(\" \"))\n",
    "temp = \"PRash12@#$\"\n",
    "if password == temp:\n",
    "    print(\"Valid Password\")\n",
    "else:\n",
    "    print(\"Invalid Password\")"
   ]
  },
  {
   "cell_type": "markdown",
   "id": "8ca1b1f2",
   "metadata": {},
   "source": [
    "- Q2. Solve the below-given questions using at least one of the following:\n",
    "1. Lambda functioJ\n",
    "2. Filter functioJ\n",
    "3. Zap functioJ\n",
    "4. List ComprehensioI\n",
    "B Check if the string starts with a particular letterY\n",
    "B Check if the string is numericY\n",
    "B Sort a list of tuples having fruit names and their quantity. [(\"mango\",99),(\"orange\",80), (\"grapes\", 1000)-\n",
    "B Find the squares of numbers from 1 to 10Y\n",
    "B Find the cube root of numbers from 1 to 10Y\n",
    "B Check if a given number is evenY\n",
    "B Filter odd numbers from the given list.\n",
    "[1,2,3,4,5,6,7,8,9,10-\n",
    "B Sort a list of integers into positive and negative integers lists.\n",
    "[1,2,3,4,5,6,-1,-2,-3,-4,-5,0]"
   ]
  },
  {
   "cell_type": "markdown",
   "id": "5920c8f4",
   "metadata": {},
   "source": [
    "- 1 Solution . Check if the string starts with a particular letter"
   ]
  },
  {
   "cell_type": "code",
   "execution_count": 6,
   "id": "24b02a2b",
   "metadata": {},
   "outputs": [
    {
     "name": "stdout",
     "output_type": "stream",
     "text": [
      " p\n",
      "True\n"
     ]
    }
   ],
   "source": [
    "string = \"pthon\"\n",
    "letter = str(input(\" \"))\n",
    "starts_with_letter = lambda string, letter:string.startswith(letter)\n",
    "print(starts_with_letter(string,letter))"
   ]
  },
  {
   "cell_type": "markdown",
   "id": "2e3e908d",
   "metadata": {},
   "source": [
    "- 2 Solution. Check if the string is numeric"
   ]
  },
  {
   "cell_type": "code",
   "execution_count": 9,
   "id": "34704220",
   "metadata": {},
   "outputs": [
    {
     "name": "stdout",
     "output_type": "stream",
     "text": [
      "True\n"
     ]
    }
   ],
   "source": [
    "number = \"12345\"\n",
    "is_numeric = lambda number:number.isnumeric()\n",
    "print(is_numeric(number))"
   ]
  },
  {
   "cell_type": "markdown",
   "id": "d149b576",
   "metadata": {},
   "source": [
    "- 3 solution . Sort a list of tuples having fruit names and their quantity. [(\"mango\",99),(\"orange\",80), (\"grapes\", 1000)]"
   ]
  },
  {
   "cell_type": "code",
   "execution_count": 20,
   "id": "1cfb4a38",
   "metadata": {},
   "outputs": [
    {
     "name": "stdout",
     "output_type": "stream",
     "text": [
      "[('orange', 80), ('mango', 99), ('grapes', 1000)]\n"
     ]
    }
   ],
   "source": [
    "fruits = [(\"mango\", 99), (\"orange\", 80), (\"grapes\", 1000)]\n",
    "sorted_fruits = sorted(fruits, key = lambda x: x[1])\n",
    "print(sorted_fruits)"
   ]
  },
  {
   "cell_type": "markdown",
   "id": "fa6eaa56",
   "metadata": {},
   "source": [
    "- 4 Solution . Find the squares of numbers from 1 to 10"
   ]
  },
  {
   "cell_type": "code",
   "execution_count": 22,
   "id": "0cc7310e",
   "metadata": {},
   "outputs": [
    {
     "name": "stdout",
     "output_type": "stream",
     "text": [
      "[1, 4, 9, 16, 25, 36, 49, 64, 81, 100]\n"
     ]
    }
   ],
   "source": [
    "numbers = range(1, 11)\n",
    "squared_number = list(map(lambda x: x**2,numbers))\n",
    "print(squared_number)"
   ]
  },
  {
   "cell_type": "markdown",
   "id": "ae1d0217",
   "metadata": {},
   "source": [
    "- 5 Solution . Find the cube root of numbers from 1 to 10"
   ]
  },
  {
   "cell_type": "code",
   "execution_count": 25,
   "id": "18f4ff86",
   "metadata": {},
   "outputs": [
    {
     "name": "stdout",
     "output_type": "stream",
     "text": [
      "[1, 8, 27, 64, 125, 216, 343, 512, 729, 1000]\n"
     ]
    }
   ],
   "source": [
    "numbers = range(1, 11)\n",
    "cube_numbers = list(map(lambda x: x**3, numbers))\n",
    "print(cube_numbers)"
   ]
  },
  {
   "cell_type": "markdown",
   "id": "ee541b6c",
   "metadata": {},
   "source": [
    "- 6 Solution . Check if a given number is even"
   ]
  },
  {
   "cell_type": "code",
   "execution_count": 29,
   "id": "2a3e7d33",
   "metadata": {},
   "outputs": [
    {
     "name": "stdout",
     "output_type": "stream",
     "text": [
      "4\n",
      "True\n"
     ]
    }
   ],
   "source": [
    "numbers = int(input())\n",
    "is_even = lambda numbers: numbers % 2 == 0\n",
    "print(is_even(numbers))"
   ]
  },
  {
   "cell_type": "markdown",
   "id": "ec754195",
   "metadata": {},
   "source": [
    "- 7 th Solution Filter odd numbers from the given list.\n",
    "[1,2,3,4,5,6,7,8,9,10-"
   ]
  },
  {
   "cell_type": "code",
   "execution_count": 32,
   "id": "95e51978",
   "metadata": {},
   "outputs": [
    {
     "name": "stdout",
     "output_type": "stream",
     "text": [
      "[1, 3, 5, 7, 9]\n"
     ]
    }
   ],
   "source": [
    "numbers  = [1,2,3,4,5,6,7,8,9,10]\n",
    "odd_numbers = list(filter(lambda x: x % 2 != 0, numbers))\n",
    "print(odd_numbers)"
   ]
  },
  {
   "cell_type": "markdown",
   "id": "136db3a6",
   "metadata": {},
   "source": [
    "- 8 th Solution ... Sort a list of integers into positive and negative integers lists.\n",
    "[1,2,3,4,5,6,-1,-2,-3,-4,-5,0]"
   ]
  },
  {
   "cell_type": "code",
   "execution_count": 37,
   "id": "20ec7ad8",
   "metadata": {},
   "outputs": [
    {
     "name": "stdout",
     "output_type": "stream",
     "text": [
      "Positive Numbers [1, 2, 3, 4, 5, 6]\n",
      "Negative Numbers [-1, -2, -3, -4, -5]\n"
     ]
    }
   ],
   "source": [
    "numbers = [1,2,3,4,5,6,-1,-2,-3,-4,-5,0]\n",
    "\n",
    "positive_numbers = list(filter(lambda x: x > 0, numbers))\n",
    "\n",
    "negative_numbers = list(filter(lambda x: x < 0, numbers))\n",
    "print(\"Positive Numbers\", positive_numbers)\n",
    "print(\"Negative Numbers\", negative_numbers)"
   ]
  },
  {
   "cell_type": "code",
   "execution_count": null,
   "id": "36c47ce4",
   "metadata": {},
   "outputs": [],
   "source": []
  }
 ],
 "metadata": {
  "kernelspec": {
   "display_name": "Python 3 (ipykernel)",
   "language": "python",
   "name": "python3"
  },
  "language_info": {
   "codemirror_mode": {
    "name": "ipython",
    "version": 3
   },
   "file_extension": ".py",
   "mimetype": "text/x-python",
   "name": "python",
   "nbconvert_exporter": "python",
   "pygments_lexer": "ipython3",
   "version": "3.11.2"
  }
 },
 "nbformat": 4,
 "nbformat_minor": 5
}
